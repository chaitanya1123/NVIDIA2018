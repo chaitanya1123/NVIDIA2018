{
 "cells": [
  {
   "cell_type": "markdown",
   "metadata": {},
   "source": [
    "<a href=\"https://www.nvidia.com/dli/\"> <img src=\"https://developer.download.nvidia.com/training/images/DLI%20Header.png\" alt=\"Header\" style=\"width: 400px;\"/> </a>"
   ]
  },
  {
   "cell_type": "markdown",
   "metadata": {},
   "source": [
    "# Variational Autoencoders for Anomaly Detection"
   ]
  },
  {
   "cell_type": "markdown",
   "metadata": {},
   "source": [
    "Welcome to the lab! Before we get started here are a few pointers on jupyter notebooks.\n",
    "\n",
    "1. This jupyter notebook notebook is being rendered on your browser, but the contents are being streamed by an interactive iPython kernel running on an AWS EC2 GPU enabled instance.\n",
    "\n",
    "2. The notebook is composed of cells; cells can contain code which you can run, or they can hold text and/or images which are there for you to read.\n",
    "\n",
    "3. You can execute code cells by clicking the ```Run``` icon in the menu, or via the following keyboard shortcuts ```Shift-Enter``` (run and advance) or ```Ctrl-Enter``` (run and stay in the current cell).\n",
    "\n",
    "4. To interrupt cell execution, click the ```Stop``` button on the toolbar or navigate to the ```Kernel``` menu, and select ```Interrupt ```."
   ]
  },
  {
   "cell_type": "markdown",
   "metadata": {},
   "source": [
    "I'm a markdown cell -- if you run me I'll turn into static text."
   ]
  },
  {
   "cell_type": "code",
   "execution_count": 1,
   "metadata": {},
   "outputs": [
    {
     "data": {
      "text/plain": [
       "2"
      ]
     },
     "execution_count": 1,
     "metadata": {},
     "output_type": "execute_result"
    }
   ],
   "source": [
    "1 + 1  # i'm a code cell -- if you run me I'll perform some computations and show you their result below"
   ]
  },
  {
   "cell_type": "markdown",
   "metadata": {},
   "source": [
    "## Anomalies"
   ]
  },
  {
   "cell_type": "markdown",
   "metadata": {},
   "source": [
    "Humans are great at detecting anomalies! At least in everyday life.  Deep learning models also make great anomaly detectors and can be used in a wide variety of applications in industry.\n",
    "\n",
    "## <center> Can you spot the anomaly? </center>\n",
    "\n",
    "<!--\n",
    "<table>\n",
    "    <col width=\"43%\">\n",
    "    <col width=\"57%\">\n",
    "    <tr>\n",
    "        <td><img src=\"images/anomaly.jpg\"></img></td>\n",
    "        <td><img src=\"images/solder_ball_generator_cropped.jpeg\" ></img></td>\n",
    "    </tr>\n",
    "</table>-->\n",
    "\n",
    "<img src=\"images/anomaly.jpg\"></img>\n",
    "\n",
    "## <center> How about in this solder ball fabric? </center>\n",
    "\n",
    "<a href=\"images/solder_ball_generator_with_label.jpeg\"><img src=\"images/solder_ball_generator_cropped.jpeg\" width=\"60%\"></img></a>\n",
    "\n",
    "<center> <i> Click on the image to see the answer </i> </center>\n",
    "\n",
    "Anomaly detection can be applied to solve many problems in industry. In cybersecurity, network intrusions and data breaches are anomalies. Credit card companies, banks, and financial institutions need to prevent fraudulent transactions which are also anomalies.  Anomalies could also be mechanical parts or sensors that are about to fail or even thieves trying to break into a secure location."
   ]
  },
  {
   "cell_type": "markdown",
   "metadata": {},
   "source": [
    "## Fashion MNIST"
   ]
  },
  {
   "cell_type": "markdown",
   "metadata": {},
   "source": [
    "We begin by importing the libraries that we'll need.  Mainly we'll be using NumPy and Keras (with TensorFlow backend)."
   ]
  },
  {
   "cell_type": "code",
   "execution_count": 2,
   "metadata": {},
   "outputs": [
    {
     "name": "stderr",
     "output_type": "stream",
     "text": [
      "Using TensorFlow backend.\n"
     ]
    }
   ],
   "source": [
    "import numpy as np\n",
    "import matplotlib.pyplot as plt\n",
    "from scipy.stats import norm\n",
    "\n",
    "import gzip\n",
    "import os\n",
    "\n",
    "from keras.datasets import fashion_mnist, mnist\n",
    "\n",
    "%matplotlib inline"
   ]
  },
  {
   "cell_type": "markdown",
   "metadata": {},
   "source": [
    "The Fashion MNIST dataset contains grayscale images of articles of clothing.  It is meant as a drop-in replacement for MNIST but it is a more challenging dataset."
   ]
  },
  {
   "cell_type": "code",
   "execution_count": 3,
   "metadata": {},
   "outputs": [],
   "source": [
    "# load fashion MNIST\n",
    "\n",
    "path = 'data/'\n",
    "\n",
    "train_labels_path = os.path.join(path, 'train-labels-idx1-ubyte.gz')\n",
    "train_images_path = os.path.join(path, 'train-images-idx3-ubyte.gz')\n",
    "test_labels_path = os.path.join(path, 't10k-labels-idx1-ubyte.gz')\n",
    "test_images_path = os.path.join(path, 't10k-images-idx3-ubyte.gz')\n",
    "\n",
    "with gzip.open(train_labels_path, 'rb') as lbpath:\n",
    "    y_train = np.frombuffer(lbpath.read(), dtype=np.uint8,\n",
    "                           offset=8)\n",
    "\n",
    "with gzip.open(train_images_path, 'rb') as imgpath:\n",
    "    x_train = np.frombuffer(imgpath.read(), dtype=np.uint8,\n",
    "                           offset=16).reshape(len(y_train), 28, 28)\n",
    "    \n",
    "with gzip.open(test_labels_path, 'rb') as lbpath:\n",
    "    y_test = np.frombuffer(lbpath.read(), dtype=np.uint8,\n",
    "                           offset=8)\n",
    "\n",
    "with gzip.open(test_images_path, 'rb') as imgpath:\n",
    "    x_test = np.frombuffer(imgpath.read(), dtype=np.uint8,\n",
    "                           offset=16).reshape(len(y_test), 28, 28)"
   ]
  },
  {
   "cell_type": "markdown",
   "metadata": {},
   "source": [
    "## Clothing Categories with Different Color Maps"
   ]
  },
  {
   "cell_type": "markdown",
   "metadata": {},
   "source": [
    "Now, let's visualize Fashion MNIST using [color maps](https://matplotlib.org/examples/color/colormaps_reference.html).  This can help us humans get a better understanding of our data."
   ]
  },
  {
   "cell_type": "code",
   "execution_count": 4,
   "metadata": {},
   "outputs": [],
   "source": [
    "def label_demo( color_map='gray', font_size='15' ):\n",
    "    plt.figure( figsize = (15,5))\n",
    "    indexes_to_show = [1 , 2265, 44257, 3, 8252, 18063, 22665, 6, 1957, 0]\n",
    "    text_labels = ['T-Shirt', 'Trouser', 'Pullover', 'Dress', 'Coat', 'Sandal', 'Shirt', 'Sneaker', 'Purse', 'Ankle-Boot']\n",
    "    \n",
    "    for iCategory in range ( len(text_labels)):\n",
    "        plt.subplot(2, 5, iCategory+1)\n",
    "        plt.imshow(x_train[indexes_to_show[iCategory]], cmap = color_map); plt.axis('off')\n",
    "        plt.title(str(iCategory) + ': ' + text_labels[iCategory], fontsize = font_size)\n",
    "        \n",
    "    plt.show()"
   ]
  },
  {
   "cell_type": "code",
   "execution_count": 5,
   "metadata": {},
   "outputs": [
    {
     "data": {
      "image/png": "[encoded data removed]",
      "text/plain": [
       "<Figure size 1080x360 with 10 Axes>"
      ]
     },
     "metadata": {},
     "output_type": "display_data"
    }
   ],
   "source": [
    "label_demo('gray')"
   ]
  },
  {
   "cell_type": "code",
   "execution_count": 6,
   "metadata": {},
   "outputs": [
    {
     "data": {
      "image/png": "[encoded data removed]",
      "text/plain": [
       "<Figure size 1080x360 with 10 Axes>"
      ]
     },
     "metadata": {},
     "output_type": "display_data"
    }
   ],
   "source": [
    "label_demo('hot')"
   ]
  },
  {
   "cell_type": "code",
   "execution_count": 7,
   "metadata": {
    "scrolled": true
   },
   "outputs": [
    {
     "data": {
      "image/png": "[encoded data removed]",
      "text/plain": [
       "<Figure size 1080x360 with 10 Axes>"
      ]
     },
     "metadata": {},
     "output_type": "display_data"
    }
   ],
   "source": [
    "label_demo('Accent')"
   ]
  },
  {
   "cell_type": "markdown",
   "metadata": {},
   "source": [
    "## Visualize Random Samples from the Dataset"
   ]
  },
  {
   "cell_type": "markdown",
   "metadata": {},
   "source": [
    "Now, let's inspect the data and see what we're working with.  It's a good idea to first plot and try to visualize your data."
   ]
  },
  {
   "cell_type": "code",
   "execution_count": 8,
   "metadata": {
    "scrolled": true
   },
   "outputs": [
    {
     "data": {
      "image/png": "[encoded data removed]",
      "text/plain": [
       "<Figure size 1008x1008 with 25 Axes>"
      ]
     },
     "metadata": {},
     "output_type": "display_data"
    }
   ],
   "source": [
    "\"\"\" Let's randomly sample 10 images and display them using matplotlib.\n",
    "Execute this cell again until you get a good feel for what's in the dataset. \"\"\"\n",
    "\n",
    "# plot original digit, reconstruction, and probability\n",
    "n = 25\n",
    "plt.figure(figsize=(14, 14))\n",
    "for i in range(1, n+1):\n",
    "    img_idx = np.random.randint(0, y_train.shape[0])\n",
    "    #print('image index: ' + str(img_idx))\n",
    "    img_caption = str(img_idx)\n",
    "    img_label = str(y_train[img_idx])\n",
    "\n",
    "    # display original\n",
    "    ax = plt.subplot(5, 5, i)\n",
    "    plt.imshow(x_train[img_idx])\n",
    "    plt.title(img_label)\n",
    "    plt.gray()\n",
    "    ax.get_xaxis().set_visible(False)\n",
    "    ax.get_yaxis().set_visible(False)\n",
    "\n",
    "plt.show()"
   ]
  },
  {
   "cell_type": "markdown",
   "metadata": {},
   "source": [
    "## Variational Autoencoders"
   ]
  },
  {
   "cell_type": "markdown",
   "metadata": {},
   "source": [
    "We'll be using a Keras implementation of variational autoencoders.  The implementation is based off of [this code](https://github.com/fchollet/keras/blob/master/examples/variational_autoencoder.py)\n",
    "and [Auto-Encoding Variational Bayes, Kingma, Welling, 2014](https://arxiv.org/pdf/1312.6114.pdf).\n",
    "\n",
    "<img src=\"images/ae_v_vae.jpg\" width=\"80%\"></img>\n",
    "\n",
    "Autoencoders are a subset of neural network architectures where the output dimension is the same as the input dimension. Autoencoders have two networks, an encoder and a decoder.  The encoder encodes its input data into a smaller dimensional space, latent space.  The decoder network tries to reconstruct the original data from the latent encoding. Typically, the encoder and decoder are symmetric, and the latent space is a bottleneck. The autoencoder has to learn essential characteristics of the data in order to decode a quality reconstruction.\n",
    "\n",
    "In this lab, we'll be using variational autoencoders. With VAEs, we still specify the dimensionality of the latent space, aka the bottleneck size.  But now, each latent dimension is encoded as a normal distribution with a learnable mean and standard deviation parameter.  One advantage of this approach is that we can explore the learned latent space in a more principled way (e.g., we can ask the model to generate data that is 3 standard deviations away from the average in a latent dimension that we are investigating). \n",
    "\n",
    "One additional benefit of VAEs is that they are inherently robust to small amounts of noise since the generator network has to randomly sample from the latent distribution while training.  Similar robustness can be achieved in vanilla/traditional autoencoder networks if noise is injected in the input data during training, but this is an optional augmentation."
   ]
  },
  {
   "cell_type": "markdown",
   "metadata": {},
   "source": [
    "## Keras Model Definition \n",
    "\n",
    "First we'll import the Keras layers that we need to define our VAE."
   ]
  },
  {
   "cell_type": "code",
   "execution_count": 9,
   "metadata": {},
   "outputs": [],
   "source": [
    "from keras.layers import Input, Dense, Lambda, Reshape \n",
    "from keras.layers import Conv2D, Flatten, MaxPooling2D, UpSampling2D, Conv2DTranspose\n",
    "from keras.models import Model\n",
    "from keras import backend as K\n",
    "from keras import metrics\n",
    "from keras.optimizers import RMSprop\n",
    "\n",
    "# model hyperparameters\n",
    "batch_size = 512\n",
    "latent_dim = 32 # higher values add network capacity while lower values increase efficiency\n",
    "max_epochs = 30\n",
    "epsilon_std = .85 # standard deviation of normal distribution used to sample latent values"
   ]
  },
  {
   "cell_type": "markdown",
   "metadata": {},
   "source": [
    "## Probabilistic Encoder\n",
    "\n",
    "Here we define the probabilistic encoder network. Rather than mapping an observation directly into latent space, probabilistic encoders map inputs to a latent distribution.  That distribution can then be sampled to generate data similar to your input data.\n",
    "\n",
    "The probabilistic encoder has two outputs, the mean and standard deviation parameters of a normal distribution.\n",
    "\n",
    "<img src=\"images/rotated_encoder.jpg\" width=\"45%\"></img>\n",
    "\n",
    "Note that our encoder and decoder will be using convolutional layers.  Convolutional layers are great at extracting features from images."
   ]
  },
  {
   "cell_type": "code",
   "execution_count": 10,
   "metadata": {},
   "outputs": [],
   "source": [
    "# input the images as (channel, height, width)\n",
    "input_img = Input(shape=(1, 28, 28))\n",
    "\n",
    "# the probabilistic encoder first extracts features from the images using convolutional layers\n",
    "encoder_conv1 = Conv2D(64, 3, activation='relu', padding='same', data_format='channels_first')(input_img)\n",
    "encoder_conv2 = Conv2D(32, 3, activation='relu', padding='same', data_format='channels_first')(encoder_conv1)\n",
    "encoder_conv3 = Conv2D(32, 3, activation='relu', padding='same', data_format='channels_first')(encoder_conv2)\n",
    "\n",
    "# we then flatten the extracted features and pass them through a fully connected layer\n",
    "encoder_flat = Flatten()(encoder_conv3)\n",
    "encoder_hidden = Dense(128, activation='relu')(encoder_flat)\n",
    "\n",
    "# finally we output the means and standard deviations that define a normal probability distribution\n",
    "z_mean = Dense(latent_dim)(encoder_hidden)\n",
    "z_log_var = Dense(latent_dim)(encoder_hidden)"
   ]
  },
  {
   "cell_type": "markdown",
   "metadata": {},
   "source": [
    "## Sample Latent Values\n",
    "\n",
    "In order to get the latent values that can be used to reconstruct our image, we have to first sample the distribution that our encoder created. Note that in order to train our network and apply backpropagation, we have to do the <i>reparameterization trick</i>.  Please see this [paper](https://arxiv.org/pdf/1312.6114.pdf) for more technical details."
   ]
  },
  {
   "cell_type": "code",
   "execution_count": 11,
   "metadata": {},
   "outputs": [],
   "source": [
    "def sampling(args):\n",
    "    z_mean, z_log_var = args\n",
    "    epsilon = K.random_normal( shape=( K.shape( z_mean )[0], latent_dim), mean = 0., stddev = epsilon_std )\n",
    "    return z_mean + K.exp( z_log_var / 2) * epsilon"
   ]
  },
  {
   "cell_type": "code",
   "execution_count": 12,
   "metadata": {},
   "outputs": [],
   "source": [
    "# sample our latent value\n",
    "z = Lambda(sampling)([z_mean, z_log_var])"
   ]
  },
  {
   "cell_type": "markdown",
   "metadata": {},
   "source": [
    "## Probabilistic Decoder\n",
    "\n",
    "The probabilistic decoder network maps latent values to a distribution that can be sampled to reconstruct the inputs. For continuous data, the normal distribution can be used. In our experiments, we found that the model did not converge when using the [normal distribution](https://en.wikipedia.org/wiki/Normal_distribution), but the model did converge when using the [Bernoulli distribution](https://en.wikipedia.org/wiki/Bernoulli_distribution).  We can assume that the Fashion MNIST data is coming from a [Bernoulli distribution](https://en.wikipedia.org/wiki/Bernoulli_distribution) where each pixel intensity is the probability that the pixel is 1. "
   ]
  },
  {
   "cell_type": "code",
   "execution_count": 13,
   "metadata": {},
   "outputs": [],
   "source": [
    "\"\"\" We instantiate the decoder layers so that we can use them later to have our network generate images \"\"\"\n",
    "\n",
    "# decode the latent values\n",
    "decoder_hidden = Dense(128, activation='relu')\n",
    "\n",
    "# upsample so that we can feed our image into deconvolutional layers\n",
    "decoder_upsample = Dense(32*28*28, activation='relu')\n",
    "\n",
    "# reshape to fit the deconv API\n",
    "decoder_reshape = Reshape((32, 28, 28))\n",
    "\n",
    "# 3 deconvolutional layers\n",
    "decoder_deconv1 = Conv2DTranspose(32, 3, activation='relu', padding='same', data_format='channels_first')\n",
    "decoder_deconv2 = Conv2DTranspose(32, 3, activation='relu', padding='same', data_format='channels_first')\n",
    "decoder_deconv3 = Conv2DTranspose(64, 3, activation='relu', padding='same', data_format='channels_first')\n",
    "\n",
    "# we use sigmoid as the activation because we are considering our images to be coming from a Bernoulli distribution\n",
    "decoder_mean = Conv2D(1, 3, padding='same', data_format='channels_first', activation='sigmoid')"
   ]
  },
  {
   "cell_type": "code",
   "execution_count": 14,
   "metadata": {},
   "outputs": [],
   "source": [
    "\"\"\" Now we finish constructing the decoder for the end-to-end graph \"\"\"\n",
    "\n",
    "decoded_hidden = decoder_hidden(z)\n",
    "decoded_upsample = decoder_upsample(decoded_hidden)\n",
    "decoded_reshaped = decoder_reshape(decoded_upsample)\n",
    "decoded_deconv1 = decoder_deconv1(decoded_reshaped)\n",
    "decoded_deconv2 = decoder_deconv2(decoded_deconv1)\n",
    "decoded_deconv3 = decoder_deconv3(decoded_deconv2)\n",
    "reconstructed_img = decoder_mean(decoded_deconv3)"
   ]
  },
  {
   "cell_type": "markdown",
   "metadata": {},
   "source": [
    "## End-to-End Model for Training"
   ]
  },
  {
   "cell_type": "code",
   "execution_count": 15,
   "metadata": {},
   "outputs": [],
   "source": [
    "\"\"\" This graph flows from the input image, to its latent distribution, and finally to the reconstructed image \"\"\"\n",
    "vae = Model(input_img, reconstructed_img)"
   ]
  },
  {
   "cell_type": "markdown",
   "metadata": {},
   "source": [
    "Here we add the VAE loss to the model.  The loss function is the sum of the [binary cross-entropy loss](https://en.wikipedia.org/wiki/Cross_entropy) and the [KL divergence](https://en.wikipedia.org/wiki/Kullback%E2%80%93Leibler_divergence) between the latent distribution and the standard normal distribution.\n",
    "\n",
    "The binary crossentropy term penalizes reconstruction error while the KL divergence term encourages our model to learn a latent distribution that is similar to the normal distribution.\n",
    "\n",
    "Please see this [paper](https://arxiv.org/pdf/1312.6114.pdf) for more technical details."
   ]
  },
  {
   "cell_type": "code",
   "execution_count": 16,
   "metadata": {},
   "outputs": [],
   "source": [
    "# Compute VAE loss\n",
    "xent_loss = 28 * 28 * metrics.binary_crossentropy(\n",
    "    K.flatten(input_img),\n",
    "    K.flatten(reconstructed_img))\n",
    "kl_loss = - 0.5 * K.sum(1 + z_log_var - K.square(z_mean) - K.exp(z_log_var), axis=-1)\n",
    "vae_loss = K.mean(xent_loss + kl_loss)\n",
    "vae.add_loss(vae_loss)\n",
    "\n",
    "opt = RMSprop(lr=0.001, rho=0.9, epsilon=None, decay=0.0)\n",
    "\n",
    "vae.compile(optimizer=opt)"
   ]
  },
  {
   "cell_type": "markdown",
   "metadata": {},
   "source": [
    "## Model Summary\n",
    "Now that we've finished defining our model, let's take a look a the layers and the number of parameters."
   ]
  },
  {
   "cell_type": "code",
   "execution_count": 17,
   "metadata": {},
   "outputs": [
    {
     "name": "stdout",
     "output_type": "stream",
     "text": [
      "__________________________________________________________________________________________________\n",
      "Layer (type)                    Output Shape         Param #     Connected to                     \n",
      "==================================================================================================\n",
      "input_1 (InputLayer)            (None, 1, 28, 28)    0                                            \n",
      "__________________________________________________________________________________________________\n",
      "conv2d_1 (Conv2D)               (None, 64, 28, 28)   640         input_1[0][0]                    \n",
      "__________________________________________________________________________________________________\n",
      "conv2d_2 (Conv2D)               (None, 32, 28, 28)   18464       conv2d_1[0][0]                   \n",
      "__________________________________________________________________________________________________\n",
      "conv2d_3 (Conv2D)               (None, 32, 28, 28)   9248        conv2d_2[0][0]                   \n",
      "__________________________________________________________________________________________________\n",
      "flatten_1 (Flatten)             (None, 25088)        0           conv2d_3[0][0]                   \n",
      "__________________________________________________________________________________________________\n",
      "dense_1 (Dense)                 (None, 128)          3211392     flatten_1[0][0]                  \n",
      "__________________________________________________________________________________________________\n",
      "dense_2 (Dense)                 (None, 32)           4128        dense_1[0][0]                    \n",
      "__________________________________________________________________________________________________\n",
      "dense_3 (Dense)                 (None, 32)           4128        dense_1[0][0]                    \n",
      "__________________________________________________________________________________________________\n",
      "lambda_1 (Lambda)               (None, 32)           0           dense_2[0][0]                    \n",
      "                                                                 dense_3[0][0]                    \n",
      "__________________________________________________________________________________________________\n",
      "dense_4 (Dense)                 (None, 128)          4224        lambda_1[0][0]                   \n",
      "__________________________________________________________________________________________________\n",
      "dense_5 (Dense)                 (None, 25088)        3236352     dense_4[0][0]                    \n",
      "__________________________________________________________________________________________________\n",
      "reshape_1 (Reshape)             (None, 32, 28, 28)   0           dense_5[0][0]                    \n",
      "__________________________________________________________________________________________________\n",
      "conv2d_transpose_1 (Conv2DTrans (None, 32, 28, 28)   9248        reshape_1[0][0]                  \n",
      "__________________________________________________________________________________________________\n",
      "conv2d_transpose_2 (Conv2DTrans (None, 32, 28, 28)   9248        conv2d_transpose_1[0][0]         \n",
      "__________________________________________________________________________________________________\n",
      "conv2d_transpose_3 (Conv2DTrans (None, 64, 28, 28)   18496       conv2d_transpose_2[0][0]         \n",
      "__________________________________________________________________________________________________\n",
      "conv2d_4 (Conv2D)               (None, 1, 28, 28)    577         conv2d_transpose_3[0][0]         \n",
      "==================================================================================================\n",
      "Total params: 6,526,145\n",
      "Trainable params: 6,526,145\n",
      "Non-trainable params: 0\n",
      "__________________________________________________________________________________________________\n"
     ]
    }
   ],
   "source": [
    "vae.summary()"
   ]
  },
  {
   "cell_type": "markdown",
   "metadata": {},
   "source": [
    "# Train on the Fashion MNIST data."
   ]
  },
  {
   "cell_type": "markdown",
   "metadata": {},
   "source": [
    "To train on the Fashion MNIST dataset we first need to convert the data to float32 and then normalize it by dividing by the largest possible pixel value."
   ]
  },
  {
   "cell_type": "code",
   "execution_count": 18,
   "metadata": {},
   "outputs": [],
   "source": [
    "x_train = x_train.astype('float32') / 255.\n",
    "x_test = x_test.astype('float32') / 255."
   ]
  },
  {
   "cell_type": "markdown",
   "metadata": {},
   "source": [
    "In order to fit the API for convolutional layers we have to reshape the data."
   ]
  },
  {
   "cell_type": "code",
   "execution_count": 19,
   "metadata": {},
   "outputs": [],
   "source": [
    "# reshape the images to be (channels, height, width)\n",
    "x_train_reshaped = np.reshape(x_train, (x_train.shape[0], 1, 28, 28))\n",
    "x_test_reshaped = np.reshape(x_test, (x_test.shape[0], 1, 28, 28))"
   ]
  },
  {
   "cell_type": "markdown",
   "metadata": {},
   "source": [
    "Now we can train and afterwards we will inspect the loss on the train and validation sets."
   ]
  },
  {
   "cell_type": "code",
   "execution_count": null,
   "metadata": {
    "scrolled": false
   },
   "outputs": [
    {
     "name": "stdout",
     "output_type": "stream",
     "text": [
      "Train on 51000 samples, validate on 9000 samples\n",
      "Epoch 1/30\n",
      "51000/51000 [==============================] - 16s 321us/step - loss: 260.4052 - val_loss: 260.7098\n",
      "Epoch 2/30\n",
      "51000/51000 [==============================] - 16s 320us/step - loss: 257.0247 - val_loss: 265.2282\n",
      "Epoch 3/30\n",
      "51000/51000 [==============================] - 16s 321us/step - loss: 254.8281 - val_loss: 258.7511\n",
      "Epoch 4/30\n",
      "16384/51000 [========>.....................] - ETA: 10s - loss: 253.1945"
     ]
    }
   ],
   "source": [
    "train_history = vae.fit(x_train_reshaped,\n",
    "        shuffle=True,\n",
    "        epochs=max_epochs,\n",
    "        batch_size=batch_size,\n",
    "        validation_split=.15)"
   ]
  },
  {
   "cell_type": "code",
   "execution_count": 22,
   "metadata": {
    "scrolled": false
   },
   "outputs": [
    {
     "ename": "NameError",
     "evalue": "name 'train_history' is not defined",
     "output_type": "error",
     "traceback": [
      "\u001b[0;31m\u001b[0m",
      "\u001b[0;31mNameError\u001b[0mTraceback (most recent call last)",
      "\u001b[0;32m<ipython-input-22-92fb57596c5a>\u001b[0m in \u001b[0;36m<module>\u001b[0;34m()\u001b[0m\n\u001b[1;32m      1\u001b[0m \u001b[0;31m# plot the loss on train and validation data\u001b[0m\u001b[0;34m\u001b[0m\u001b[0;34m\u001b[0m\u001b[0m\n\u001b[1;32m      2\u001b[0m \u001b[0mplt\u001b[0m\u001b[0;34m.\u001b[0m\u001b[0mfigure\u001b[0m\u001b[0;34m(\u001b[0m \u001b[0mfigsize\u001b[0m \u001b[0;34m=\u001b[0m \u001b[0;34m(\u001b[0m\u001b[0;36m10\u001b[0m\u001b[0;34m,\u001b[0m\u001b[0;36m5\u001b[0m\u001b[0;34m)\u001b[0m \u001b[0;34m)\u001b[0m\u001b[0;34m\u001b[0m\u001b[0m\n\u001b[0;32m----> 3\u001b[0;31m \u001b[0mplt\u001b[0m\u001b[0;34m.\u001b[0m\u001b[0mplot\u001b[0m\u001b[0;34m(\u001b[0m \u001b[0mtrain_history\u001b[0m\u001b[0;34m.\u001b[0m\u001b[0mhistory\u001b[0m\u001b[0;34m[\u001b[0m\u001b[0;34m'loss'\u001b[0m\u001b[0;34m]\u001b[0m \u001b[0;34m)\u001b[0m\u001b[0;34m\u001b[0m\u001b[0m\n\u001b[0m\u001b[1;32m      4\u001b[0m \u001b[0mplt\u001b[0m\u001b[0;34m.\u001b[0m\u001b[0mplot\u001b[0m\u001b[0;34m(\u001b[0m \u001b[0mtrain_history\u001b[0m\u001b[0;34m.\u001b[0m\u001b[0mhistory\u001b[0m\u001b[0;34m[\u001b[0m\u001b[0;34m'val_loss'\u001b[0m\u001b[0;34m]\u001b[0m \u001b[0;34m)\u001b[0m\u001b[0;34m\u001b[0m\u001b[0m\n\u001b[1;32m      5\u001b[0m \u001b[0mplt\u001b[0m\u001b[0;34m.\u001b[0m\u001b[0mlegend\u001b[0m\u001b[0;34m(\u001b[0m\u001b[0;34m[\u001b[0m\u001b[0;34m'loss on train data'\u001b[0m\u001b[0;34m,\u001b[0m \u001b[0;34m'loss on validation data'\u001b[0m\u001b[0;34m]\u001b[0m\u001b[0;34m)\u001b[0m\u001b[0;34m\u001b[0m\u001b[0m\n",
      "\u001b[0;31mNameError\u001b[0m: name 'train_history' is not defined"
     ]
    },
    {
     "data": {
      "text/plain": [
       "<Figure size 720x360 with 0 Axes>"
      ]
     },
     "metadata": {},
     "output_type": "display_data"
    }
   ],
   "source": [
    "# plot the loss on train and validation data\n",
    "plt.figure( figsize = (10,5) )\n",
    "plt.plot( train_history.history['loss'] )\n",
    "plt.plot( train_history.history['val_loss'] )\n",
    "plt.legend(['loss on train data', 'loss on validation data'])"
   ]
  },
  {
   "cell_type": "markdown",
   "metadata": {},
   "source": [
    "## Anomaly Detection"
   ]
  },
  {
   "cell_type": "markdown",
   "metadata": {},
   "source": [
    "Anomalies are detected by training a model to learn a distribution that approximates the true distribution generating our data.  A datapoint is considered an anomaly if the probability of it being generated from the model is below a threshold.  Thresholds are set depending on the business/industry objective."
   ]
  },
  {
   "cell_type": "code",
   "execution_count": null,
   "metadata": {},
   "outputs": [],
   "source": [
    "# first we build a graph that encodes the data and then samples latent values\n",
    "sampler = Model(input_img, z)"
   ]
  },
  {
   "cell_type": "code",
   "execution_count": null,
   "metadata": {},
   "outputs": [],
   "source": [
    "# next we build the generator graph\n",
    "decoder_input = Input(shape=(latent_dim,))\n",
    "generator_hidden = decoder_hidden(decoder_input)\n",
    "generator_upsample = decoder_upsample(generator_hidden)\n",
    "generator_reshaped = decoder_reshape(generator_upsample)\n",
    "generator_deconv1 = decoder_deconv1(generator_reshaped)\n",
    "generator_deconv2 = decoder_deconv2(generator_deconv1)\n",
    "generator_deconv3 = decoder_deconv3(generator_deconv2)\n",
    "generated_img = decoder_mean(generator_deconv3)\n",
    "\n",
    "generator = Model(decoder_input, generated_img)"
   ]
  },
  {
   "cell_type": "markdown",
   "metadata": {},
   "source": [
    "## Visualize Reconstruction"
   ]
  },
  {
   "cell_type": "markdown",
   "metadata": {},
   "source": [
    "Now, let's see what is happening when we reconstruct many times.  Here, we'll fix one test data point and visualize its reconstruction many times."
   ]
  },
  {
   "cell_type": "code",
   "execution_count": null,
   "metadata": {},
   "outputs": [],
   "source": [
    "def reconstruct(img):\n",
    "    \"\"\"Takes a (28, 28) image and returns a (28,28) reconstruction\"\"\"\n",
    "    img = np.reshape(img, (1, 1, 28, 28))\n",
    "    latent_sample = sampler.predict(img)\n",
    "    reconstructed_image = generator.predict(latent_sample)\n",
    "    reconstructed_image = np.squeeze(reconstructed_image)\n",
    "    return reconstructed_image"
   ]
  },
  {
   "cell_type": "code",
   "execution_count": null,
   "metadata": {
    "scrolled": false
   },
   "outputs": [],
   "source": [
    "# plot original image, reconstruction, and probability\n",
    "n = 10\n",
    "plt.figure(figsize=(20, 5))\n",
    "plt.subplots_adjust( left = 0.02, right = 0.95, top = 0.95, bottom = 0.01, wspace = 0.01 )\n",
    "plt.subplot(1,1,1)\n",
    "img_idx = 23 # an integer between 0 and 10000\n",
    "\n",
    "for i in range(1, n+1):\n",
    "\n",
    "    # display original\n",
    "    ax = plt.subplot(2, n, i)\n",
    "    original = x_test[img_idx]\n",
    "    plt.imshow(original.reshape(28, 28))\n",
    "    plt.gray()\n",
    "    ax.get_xaxis().set_visible(False)\n",
    "    ax.get_yaxis().set_visible(False)\n",
    "\n",
    "    # display reconstruction\n",
    "    ax = plt.subplot(2, n, i + n)\n",
    "    reconstructed = reconstruct(original)\n",
    "    plt.imshow(reconstructed)\n",
    "    plt.gray()\n",
    "    ax.get_xaxis().set_visible(False)\n",
    "    ax.get_yaxis().set_visible(False)\n",
    "plt.show()"
   ]
  },
  {
   "cell_type": "markdown",
   "metadata": {},
   "source": [
    "Try some different images and pay attention to the quality and the variability of the reconstructions."
   ]
  },
  {
   "cell_type": "markdown",
   "metadata": {},
   "source": [
    "## Reconstruction Probability and Variability"
   ]
  },
  {
   "cell_type": "markdown",
   "metadata": {},
   "source": [
    "To detect anomalies in the data we will be using the anomaly score proposed in: [Variational Autoencoder based Anomaly Detection using Reconstruction Probability, Section 3](http://dm.snu.ac.kr/static/docs/TR/SNUDM-TR-2015-03.pdf).\n",
    "\n",
    "First, we encode the test point using our trained probabilistic encoder and then sample a number of times. Using our trained probabilistic decoder, we can then reconstruct the test point and compute the probability that the test point was generated by the decoded distribution.  \n",
    "\n",
    "To get the likelihood of our reconstruction we exponentiate the negative cross-entropy. The lower the number, the more anomalous the test point."
   ]
  },
  {
   "cell_type": "code",
   "execution_count": null,
   "metadata": {},
   "outputs": [],
   "source": [
    "def recon_prob(output, target):\n",
    "    xent = -(target*np.log(output + .0000001) + (1.0 - target) * np.log(1.0 - output + .0000001))\n",
    "    xent = np.mean(xent, axis=1)\n",
    "    return np.exp(-xent)"
   ]
  },
  {
   "cell_type": "code",
   "execution_count": null,
   "metadata": {},
   "outputs": [],
   "source": [
    "times_to_sample = 50\n",
    "\n",
    "probs = np.zeros((times_to_sample, x_test_reshaped.shape[0]))\n",
    "for idx in range(times_to_sample):\n",
    "    # compute reconstructions of the test set\n",
    "    x_test_latent_samples = sampler.predict(x_test_reshaped)\n",
    "    x_test_reconstructed = generator.predict(x_test_latent_samples)\n",
    "\n",
    "    # reshape x_test_reconstructed from (channel, height, width) to (height, width)\n",
    "    x_test_reconstructed = np.squeeze(x_test_reconstructed)\n",
    "\n",
    "    # flatten the test set and its reconstructions\n",
    "    flat_x_test_reconstructed = np.reshape(x_test_reconstructed, (x_test.shape[0],28*28))\n",
    "    flat_x_test = np.reshape(x_test, (x_test.shape[0], 28*28))\n",
    "\n",
    "    # compute the reconstruction probability\n",
    "    probs[idx, :] = recon_prob(flat_x_test_reconstructed, flat_x_test)"
   ]
  },
  {
   "cell_type": "markdown",
   "metadata": {},
   "source": [
    "Probs contains the reconstruction probabilities for every datapoint in our test set for every time we sampled and reconstructed the data."
   ]
  },
  {
   "cell_type": "code",
   "execution_count": null,
   "metadata": {},
   "outputs": [],
   "source": [
    "# here we compute the average reconstruction error for each example, over all samples\n",
    "avg_reconstruction_error = np.mean(probs, axis=0)"
   ]
  },
  {
   "cell_type": "markdown",
   "metadata": {},
   "source": [
    "Now let's sort the test set so that we can visualize test data that have low reconstruction probability."
   ]
  },
  {
   "cell_type": "code",
   "execution_count": null,
   "metadata": {},
   "outputs": [],
   "source": [
    "inds_of_low_reconstruction_prob = np.argsort(avg_reconstruction_error)"
   ]
  },
  {
   "cell_type": "markdown",
   "metadata": {},
   "source": [
    "Plot images and its reconstruction probability for each of the samples."
   ]
  },
  {
   "cell_type": "code",
   "execution_count": null,
   "metadata": {},
   "outputs": [],
   "source": [
    "plt.figure(figsize=(15,5))\n",
    "for i in range(10):\n",
    "    plt.subplot(2,10,i+1)\n",
    "    plt.imshow(x_test[inds_of_low_reconstruction_prob[i]]); plt.axis('off')\n",
    "    plt.subplot(2,10,i+11)\n",
    "    plt.plot(probs[:, inds_of_low_reconstruction_prob[i]]); plt.ylim([0,1])\n",
    "plt.show()"
   ]
  },
  {
   "cell_type": "markdown",
   "metadata": {},
   "source": [
    "The reconstruction probability is between .5 and .6 for these low probability samples but there is very little variance in the reconstructions.  Can you see anything anomalous in the samples?"
   ]
  },
  {
   "cell_type": "markdown",
   "metadata": {},
   "source": [
    "Now let's plot samples that have high reconstruction probabilities. These points are the least likely to be anomalies."
   ]
  },
  {
   "cell_type": "code",
   "execution_count": null,
   "metadata": {},
   "outputs": [],
   "source": [
    "plt.figure(figsize=(15,5))\n",
    "for i in range(10):\n",
    "    plt.subplot(2,10,i+1)\n",
    "    plt.imshow(x_test[inds_of_low_reconstruction_prob[-(i+1)]]); plt.axis('off')\n",
    "    plt.subplot(2,10,i+11)\n",
    "    plt.plot(probs[:, inds_of_low_reconstruction_prob[-(i+1)]]); plt.ylim([0,1])\n",
    "plt.show()"
   ]
  },
  {
   "cell_type": "markdown",
   "metadata": {},
   "source": [
    "# Is random noise anomalous?"
   ]
  },
  {
   "cell_type": "markdown",
   "metadata": {},
   "source": [
    "Lets generate 100 images of purely random signals (reshaped to the dataset input dimensionality), \n",
    "in order to test the reconstruction from our trained model on this random signal.\n",
    "\n",
    "Our hypothesis is that these random samples will lead to poor reconstruction probabilities (hence high likely to be anomalies) since they are so different from the training data."
   ]
  },
  {
   "cell_type": "code",
   "execution_count": null,
   "metadata": {},
   "outputs": [],
   "source": [
    "anomaly_flat = np.random.rand(100,28*28)\n",
    "anomaly_img = np.reshape(anomaly_flat, (100, 28, 28))\n",
    "anomaly_img.shape"
   ]
  },
  {
   "cell_type": "markdown",
   "metadata": {},
   "source": [
    "## Sample Anomaly Data\n",
    "\n",
    "To get an idea of the effectiveness of our anomaly detect we will look at what it says about randomly generated data.  We would hope that it does not think randomly generated data comes from our dataset."
   ]
  },
  {
   "cell_type": "code",
   "execution_count": null,
   "metadata": {
    "scrolled": false
   },
   "outputs": [],
   "source": [
    "plt.figure()\n",
    "plt.imshow(anomaly_img[0])\n",
    "plt.show()"
   ]
  },
  {
   "cell_type": "code",
   "execution_count": null,
   "metadata": {},
   "outputs": [],
   "source": [
    "# compute reconstructions of the anomalies set\n",
    "anomaly_with_channels = np.reshape(anomaly_img, (100, 1, 28, 28))\n",
    "anomaly_samples = sampler.predict(anomaly_with_channels)\n",
    "anomaly_recon = generator.predict(anomaly_samples)\n",
    "anomaly_recon_img = np.squeeze(anomaly_recon)\n",
    "anomaly_recon_flat = np.reshape(anomaly_recon_img, (100, 28*28))\n",
    "probs_anomaly = recon_prob(anomaly_recon_flat, anomaly_flat)"
   ]
  },
  {
   "cell_type": "code",
   "execution_count": null,
   "metadata": {},
   "outputs": [],
   "source": [
    "# check the average reconstruction probability of the anomaly set [ lower is more anomalous ]\n",
    "np.mean(probs_anomaly)"
   ]
  },
  {
   "cell_type": "markdown",
   "metadata": {},
   "source": [
    "# Plot 3 anomalies"
   ]
  },
  {
   "cell_type": "code",
   "execution_count": null,
   "metadata": {},
   "outputs": [],
   "source": [
    "n = 3\n",
    "ten_highest = np.argpartition(probs_anomaly, n)\n",
    "plt.figure(figsize=(20, 5))\n",
    "#plt.subplots_adjust( left = 0.02, right = 0.95, top = 0.95, bottom = 0.01, wspace = 0.01 )\n",
    "for i in range(1,n+1):\n",
    "    img_idx = ten_highest[i-1]\n",
    "    ax = plt.subplot(1, n, i)\n",
    "    plt.imshow(anomaly_img[img_idx].reshape(28, 28))\n",
    "    plt.title(' reconstruction probability: '+ str(probs_anomaly[img_idx]))\n",
    "plt.show()\n"
   ]
  },
  {
   "cell_type": "markdown",
   "metadata": {},
   "source": [
    "The reconstruction probabilities are much lower than with Fashion MNIST."
   ]
  },
  {
   "cell_type": "markdown",
   "metadata": {},
   "source": [
    "# Are MNIST digits anomalous?"
   ]
  },
  {
   "cell_type": "markdown",
   "metadata": {},
   "source": [
    "The original MNIST digits are an interesting case because Fashion MNIST is a dataset built to be similar to MNIST."
   ]
  },
  {
   "cell_type": "code",
   "execution_count": null,
   "metadata": {},
   "outputs": [],
   "source": [
    "# load the MNIST data\n",
    "(mnist_x_train, mnist_y_train), (mnist_x_test, mnist_y_test) = mnist.load_data()"
   ]
  },
  {
   "cell_type": "code",
   "execution_count": null,
   "metadata": {},
   "outputs": [],
   "source": [
    "# normalize the MNIST data and cast to float32\n",
    "mnist_x_train = mnist_x_train.astype('float32') / 255.\n",
    "mnist_x_test = mnist_x_test.astype('float32') / 255."
   ]
  },
  {
   "cell_type": "markdown",
   "metadata": {},
   "source": [
    "Let's visualize the reconstructions for one datapoint at a time. Execute the cell below multiple times ```ctrl-enter``` to get a good feel for the reconstructions."
   ]
  },
  {
   "cell_type": "code",
   "execution_count": null,
   "metadata": {
    "scrolled": true
   },
   "outputs": [],
   "source": [
    "# plot original image and its reconstruction\n",
    "n = 10\n",
    "plt.figure(figsize=(20, 5))\n",
    "plt.subplots_adjust( left = 0.02, right = 0.95, top = 0.95, bottom = 0.01, wspace = 0.01 )\n",
    "plt.subplot(1,1,1)\n",
    "img_idx = 100 # an integer between 0 and 10000\n",
    "\n",
    "for i in range(1, n+1):\n",
    "\n",
    "    # display original\n",
    "    ax = plt.subplot(2, n, i)\n",
    "    original = mnist_x_test[img_idx]\n",
    "    plt.imshow(original.reshape(28, 28))\n",
    "    plt.gray()\n",
    "    ax.get_xaxis().set_visible(False)\n",
    "    ax.get_yaxis().set_visible(False)\n",
    "\n",
    "    # display reconstruction\n",
    "    ax = plt.subplot(2, n, i + n)\n",
    "    reconstructed = reconstruct(original)\n",
    "    plt.imshow(reconstructed)\n",
    "    plt.gray()\n",
    "    ax.get_xaxis().set_visible(False)\n",
    "    ax.get_yaxis().set_visible(False)\n",
    "plt.show()"
   ]
  },
  {
   "cell_type": "markdown",
   "metadata": {},
   "source": [
    "Is there more or less variability in the reconstructions?  How is the quality of the reconstructions on MNIST?"
   ]
  },
  {
   "cell_type": "markdown",
   "metadata": {},
   "source": [
    "## MNIST Reconstruction Probability and Variability\n",
    "\n",
    "Let's compute reconstructions for the MNIST test set and find which images are most anomalous according to our VAE."
   ]
  },
  {
   "cell_type": "code",
   "execution_count": null,
   "metadata": {},
   "outputs": [],
   "source": [
    "times_to_sample = 50\n",
    "\n",
    "mnist_x_test_with_channels = np.reshape(mnist_x_test, (mnist_x_test.shape[0], 1, 28, 28))\n",
    "mnist_probs = np.zeros( (times_to_sample, mnist_x_test_with_channels.shape[0]) )\n",
    "for idx in range(times_to_sample):\n",
    "    # create the reconstructions\n",
    "    mnist_x_test_samples = sampler.predict(mnist_x_test_with_channels)\n",
    "    mnist_x_test_recons = generator.predict(mnist_x_test_samples)\n",
    "    mnist_x_test_recons = np.squeeze(mnist_x_test_recons)\n",
    "    flat_mnist_x_test = np.reshape(mnist_x_test, (mnist_x_test.shape[0], 28*28))\n",
    "    flat_mnist_x_test_recons = np.reshape(mnist_x_test_recons, (mnist_x_test_recons.shape[0], 28*28))\n",
    "\n",
    "    # compute the reconstruction probability\n",
    "    mnist_probs[idx, :] = recon_prob(flat_mnist_x_test_recons, flat_mnist_x_test)"
   ]
  },
  {
   "cell_type": "code",
   "execution_count": null,
   "metadata": {},
   "outputs": [],
   "source": [
    "mnist_avg_reconstruction_error = np.mean(mnist_probs, axis=0)\n",
    "mnist_variance = np.std(mnist_probs, axis=0)**2"
   ]
  },
  {
   "cell_type": "code",
   "execution_count": null,
   "metadata": {},
   "outputs": [],
   "source": [
    "mnist_inds_of_low_reconstruction_prob = np.argsort(mnist_avg_reconstruction_error)\n",
    "mnist_inds_of_low_variance = np.argsort(mnist_variance)"
   ]
  },
  {
   "cell_type": "code",
   "execution_count": null,
   "metadata": {},
   "outputs": [],
   "source": [
    "plt.figure(figsize=(15,5))\n",
    "for i in range(10):\n",
    "    plt.subplot(2,10,i+1)\n",
    "    plt.imshow(mnist_x_test[mnist_inds_of_low_reconstruction_prob[i]]); plt.axis('off')\n",
    "    plt.subplot(2,10,i+11)\n",
    "    plt.plot(mnist_probs[:, mnist_inds_of_low_reconstruction_prob[i]]); plt.ylim([0,1])\n",
    "plt.show()"
   ]
  },
  {
   "cell_type": "markdown",
   "metadata": {},
   "source": [
    "Is there more or less variance in the reconstructions?  How is the quality?  Why would some digits be more anomalous to our Fashion MNIST VAE than others?"
   ]
  },
  {
   "cell_type": "markdown",
   "metadata": {},
   "source": [
    "## Reconstruction Probability and Variance"
   ]
  },
  {
   "cell_type": "markdown",
   "metadata": {},
   "source": [
    "Now let's visualize the digits that have the lowest reconstruction probability and their reconstructions."
   ]
  },
  {
   "cell_type": "code",
   "execution_count": null,
   "metadata": {},
   "outputs": [],
   "source": [
    "n = 10\n",
    "plt.figure(figsize=(20, 5))\n",
    "plt.subplots_adjust( left = 0.02, right = 0.95, top = 0.95, bottom = 0.01, wspace = 0.01 )\n",
    "plt.subplot(1,1,1)\n",
    "img_idx = mnist_inds_of_low_reconstruction_prob[0] # lowest reconstruction probability\n",
    "#img_idx = mnist_inds_of_low_reconstruction_prob[-1] # highest reconstruction probability\n",
    "\n",
    "\n",
    "for i in range(1, n+1):\n",
    "\n",
    "    # display original\n",
    "    ax = plt.subplot(2, n, i)\n",
    "    original = mnist_x_test[img_idx]\n",
    "    plt.imshow(original.reshape(28, 28))\n",
    "    plt.gray()\n",
    "    ax.get_xaxis().set_visible(False)\n",
    "    ax.get_yaxis().set_visible(False)\n",
    "\n",
    "    # display reconstruction\n",
    "    ax = plt.subplot(2, n, i + n)\n",
    "    reconstructed = reconstruct(original)\n",
    "    plt.imshow(reconstructed)\n",
    "    plt.gray()\n",
    "    ax.get_xaxis().set_visible(False)\n",
    "    ax.get_yaxis().set_visible(False)\n",
    "plt.show()"
   ]
  },
  {
   "cell_type": "markdown",
   "metadata": {},
   "source": [
    "Now let's visualize the digits that have the highest variance in their reconstruction probabilities."
   ]
  },
  {
   "cell_type": "code",
   "execution_count": null,
   "metadata": {},
   "outputs": [],
   "source": [
    "# plot original image and its reconstruction\n",
    "n = 10\n",
    "plt.figure(figsize=(20, 5))\n",
    "plt.subplots_adjust( left = 0.02, right = 0.95, top = 0.95, bottom = 0.01, wspace = 0.01 )\n",
    "plt.subplot(1,1,1)\n",
    "#img_idx = mnist_inds_of_low_variance[0] # lowest variance\n",
    "img_idx = mnist_inds_of_low_variance[-1] # highest variance\n",
    "\n",
    "\n",
    "for i in range(1, n+1):\n",
    "\n",
    "    # display original\n",
    "    ax = plt.subplot(2, n, i)\n",
    "    original = mnist_x_test[img_idx]\n",
    "    plt.imshow(original.reshape(28, 28))\n",
    "    plt.gray()\n",
    "    ax.get_xaxis().set_visible(False)\n",
    "    ax.get_yaxis().set_visible(False)\n",
    "\n",
    "    # display reconstruction\n",
    "    ax = plt.subplot(2, n, i + n)\n",
    "    reconstructed = reconstruct(original)\n",
    "    plt.imshow(reconstructed)\n",
    "    plt.gray()\n",
    "    ax.get_xaxis().set_visible(False)\n",
    "    ax.get_yaxis().set_visible(False)\n",
    "plt.show()"
   ]
  },
  {
   "cell_type": "markdown",
   "metadata": {},
   "source": [
    "## Visualize the Learned Latent Distribution"
   ]
  },
  {
   "cell_type": "markdown",
   "metadata": {},
   "source": [
    "One of the benefits of variational autoencoders is that we can inspect the latent space to learn more about our model and our data.  In anomaly detection, latent variables can be used to try and determine the cause of anomalies.  This could potentially lead to proactively stopping anomalies from happening.  \n",
    "\n",
    "In the case that we have 2 latent dimensions we can easily visualize the representation.  With higher dimensionality we can use dimensionality reducing techniques such as PCA or t-SNE to visualize."
   ]
  },
  {
   "cell_type": "code",
   "execution_count": null,
   "metadata": {},
   "outputs": [],
   "source": [
    "# uncomment the line below for interactive plots\n",
    "#%matplotlib notebook"
   ]
  },
  {
   "cell_type": "code",
   "execution_count": null,
   "metadata": {},
   "outputs": [],
   "source": [
    "from sklearn.decomposition import PCA\n",
    "from sklearn.discriminant_analysis import LinearDiscriminantAnalysis\n",
    "pca = PCA(n_components = 3)\n",
    "PCA_bottleneckActivations = pca.fit_transform(x_test_latent_samples)"
   ]
  },
  {
   "cell_type": "code",
   "execution_count": null,
   "metadata": {},
   "outputs": [],
   "source": [
    "point_colors = y_test"
   ]
  },
  {
   "cell_type": "code",
   "execution_count": null,
   "metadata": {
    "scrolled": true
   },
   "outputs": [],
   "source": [
    "from mpl_toolkits.mplot3d import Axes3D\n",
    "\n",
    "fig = plt.figure(figsize=(10,10))\n",
    "plt.subplots_adjust( left = 0.02, right = 0.95, top = 0.95, bottom = 0.01, wspace = 0.01 )\n",
    "\n",
    "ax2 = plt.subplot(1,1,1, projection='3d')\n",
    "ax2.scatter(PCA_bottleneckActivations[:, 0], PCA_bottleneckActivations[:,1], \n",
    "            PCA_bottleneckActivations[:,2], cmap='tab10', c=point_colors, s=1)\n",
    "plt.show()"
   ]
  },
  {
   "cell_type": "markdown",
   "metadata": {},
   "source": [
    "# Interactive Exploration -- note run cell after plot to be able to pick points"
   ]
  },
  {
   "cell_type": "code",
   "execution_count": null,
   "metadata": {},
   "outputs": [],
   "source": [
    "fig = plt.figure(figsize=(10,10))\n",
    "plt.subplots_adjust( left = 0.02, right = 0.95, top = 0.95, bottom = 0.01, wspace = 0.01 )\n",
    "\n",
    "ax1 = plt.subplot2grid((5, 5), (0, 0), rowspan=2, colspan=5)\n",
    "ax1.imshow( np.reshape(x_train[0,:],(28,28)))\n",
    "ax1.autoscale(enable=True, axis='x', tight=True)\n",
    "ax1.grid(linestyle='dotted')\n",
    "\n",
    "ax2 = plt.subplot2grid((5, 5), (2, 0), rowspan=3, colspan=3, projection='3d')\n",
    "ax2.scatter(PCA_bottleneckActivations[:, 0], \n",
    "            PCA_bottleneckActivations[:,1], \n",
    "            PCA_bottleneckActivations[:,2], cmap='tab10', c=point_colors, s=1)\n",
    "ax2.set_xticklabels([]); ax2.set_yticklabels([]); ax2.set_zticklabels([]);\n",
    "ax2.set_title('projection of bottleneck activations onto 3D PCA space')\n",
    "ax2.set_xlabel('PCA_1'), ax2.set_ylabel('PCA_2'), ax2.set_zlabel('PCA_3')\n",
    "\n",
    "ax3 = plt.subplot2grid((5, 5), (2, 3), rowspan=1, colspan=2)\n",
    "#c=point_colors\n",
    "ax3.plot ( PCA_bottleneckActivations[:,0], PCA_bottleneckActivations[:,1], 'o', markersize=1, picker = 5 )\n",
    "ax3.set_xticklabels([]); ax3.set_yticklabels([])\n",
    "ax3.set_xlabel('PCA_1'); ax3.set_ylabel('PCA_2');\n",
    "\n",
    "ax4 = plt.subplot2grid((5, 5), (3, 3), rowspan=1, colspan=2)\n",
    "ax4.plot ( PCA_bottleneckActivations[:,0], PCA_bottleneckActivations[:,2], 'o', markersize=1, picker = 5 )\n",
    "ax4.set_xticklabels([]); ax4.set_yticklabels([])\n",
    "ax4.set_xlabel('PCA_1'); ax4.set_ylabel('PCA_3'); \n",
    "\n",
    "ax5 = plt.subplot2grid((5, 5), (4, 3), rowspan=1, colspan=2)\n",
    "ax5.plot ( PCA_bottleneckActivations[:,1], PCA_bottleneckActivations[:,2], 'o', markersize=1, picker = 5 )\n",
    "ax5.set_xticklabels([]); ax5.set_yticklabels([])\n",
    "ax5.set_xlabel('PCA_2'); ax5.set_ylabel('PCA_3');\n",
    "\n",
    "plt.show()\n"
   ]
  },
  {
   "cell_type": "code",
   "execution_count": null,
   "metadata": {},
   "outputs": [],
   "source": [
    "def updatePlots ( ind ):\n",
    "    if len(ind) > 0:\n",
    "        targetInd = ind[0]\n",
    "        #lowerBound = max( 0, int((targetInd-2) * hParams['inputOutputDimensionality']) )\n",
    "        #upperBound = min( len(targetData), int((targetInd + 2) * hParams['inputOutputDimensionality']) )\n",
    "        ax1.set_title(targetInd)      \n",
    "        ax1.imshow( np.reshape(x_test[targetInd,:],(28,28)))\n",
    "\n",
    "        #ax1.imshow( )\n",
    "        \n",
    "def on_pick(event):\n",
    "    if event.mouseevent.inaxes != ax2:\n",
    "        eventArtist = event.artist\n",
    "        xdata, ydata = eventArtist.get_data()\n",
    "        ind = event.ind        \n",
    "        updatePlots(ind)\n",
    "        \n",
    "cid = fig.canvas.mpl_connect('pick_event', on_pick)"
   ]
  },
  {
   "cell_type": "markdown",
   "metadata": {},
   "source": [
    "<a href=\"https://www.nvidia.com/dli/\"> <img src=\"https://developer.download.nvidia.com/training/images/DLI%20Header.png\" alt=\"Header\" style=\"width: 400px;\"/> </a>"
   ]
  }
 ],
 "metadata": {
  "kernelspec": {
   "display_name": "Python 3",
   "language": "python",
   "name": "python3"
  },
  "language_info": {
   "codemirror_mode": {
    "name": "ipython",
    "version": 3
   },
   "file_extension": ".py",
   "mimetype": "text/x-python",
   "name": "python",
   "nbconvert_exporter": "python",
   "pygments_lexer": "ipython3",
   "version": "3.6.5"
  }
 },
 "nbformat": 4,
 "nbformat_minor": 2
}
